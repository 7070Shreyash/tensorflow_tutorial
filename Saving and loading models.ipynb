{
 "cells": [
  {
   "cell_type": "code",
   "execution_count": 1,
   "id": "f4393a3c-a3f5-4065-82c4-b7274ceb7cb3",
   "metadata": {},
   "outputs": [],
   "source": [
    "import tensorflow as tf\n",
    "from tensorflow import keras\n",
    "from keras import layers, regularizers\n",
    "from keras.datasets import mnist\n"
   ]
  },
  {
   "cell_type": "code",
   "execution_count": 4,
   "id": "71dd9e19-dd29-4def-97cd-5a5205ccd530",
   "metadata": {},
   "outputs": [],
   "source": [
    "# how to save model weights\n",
    "# how to save entire model (Serializaiotn and that can be usefu lfor produton into differnt os and evnirmonment)"
   ]
  },
  {
   "cell_type": "code",
   "execution_count": 5,
   "id": "bde7f6ad-609e-4ec4-bfa9-ed8b3240c7bc",
   "metadata": {},
   "outputs": [],
   "source": [
    "# for firat task , \n",
    "# after model.fit()"
   ]
  },
  {
   "cell_type": "markdown",
   "id": "0e1a025b-be46-4843-967b-d3533a8f2ba5",
   "metadata": {},
   "source": [
    "model.save_weights('save_folder')"
   ]
  },
  {
   "cell_type": "code",
   "execution_count": 6,
   "id": "76b7dea1-f00b-43cc-8a51-47a53a86b0ab",
   "metadata": {},
   "outputs": [],
   "source": [
    "# for using it mtr"
   ]
  },
  {
   "cell_type": "markdown",
   "id": "c809a4ee-9ce2-45a7-9901-01674117bc0f",
   "metadata": {},
   "source": [
    "model1 = keras.Model()\n",
    ".. whole arch defined\n",
    "\n",
    "model.load_weights('path definede here')"
   ]
  },
  {
   "cell_type": "code",
   "execution_count": 8,
   "id": "7116dc1e-6cc2-4c75-8f0f-5aaf7af462a0",
   "metadata": {},
   "outputs": [],
   "source": [
    "# to ssave the entire model"
   ]
  },
  {
   "cell_type": "markdown",
   "id": "174c50f9-bdde-4095-93a0-d40cde5ad948",
   "metadata": {},
   "source": [
    "model.save(\"/path_here\")"
   ]
  },
  {
   "cell_type": "code",
   "execution_count": 9,
   "id": "c06b03d0-599d-44ad-a127-ea8d8148f6fd",
   "metadata": {},
   "outputs": [],
   "source": [
    "# model = keras.models.load_model(\"path\")"
   ]
  },
  {
   "cell_type": "code",
   "execution_count": null,
   "id": "c9367b18-db24-42ec-83a8-eb12203871f8",
   "metadata": {},
   "outputs": [],
   "source": []
  }
 ],
 "metadata": {
  "kernelspec": {
   "display_name": "Python 3 (ipykernel)",
   "language": "python",
   "name": "python3"
  },
  "language_info": {
   "codemirror_mode": {
    "name": "ipython",
    "version": 3
   },
   "file_extension": ".py",
   "mimetype": "text/x-python",
   "name": "python",
   "nbconvert_exporter": "python",
   "pygments_lexer": "ipython3",
   "version": "3.10.12"
  }
 },
 "nbformat": 4,
 "nbformat_minor": 5
}
