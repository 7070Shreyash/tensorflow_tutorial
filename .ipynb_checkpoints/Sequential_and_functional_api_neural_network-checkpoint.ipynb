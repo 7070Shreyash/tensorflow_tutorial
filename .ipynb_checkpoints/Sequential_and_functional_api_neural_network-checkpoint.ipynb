{
 "cells": [
  {
   "cell_type": "markdown",
   "id": "251bb3ae-0fdf-49b8-9a71-f5beae59f8ad",
   "metadata": {},
   "source": [
    "Tensorflow is for tensors and basic algebra -- kinda numpy dup -- but for tthe gpus -- or tpus \n",
    "but keras is spec for all the neru parr -- be ti colleciton in any form -- soopenv cv a + nlp letk all gone here\n",
    "\n"
   ]
  },
  {
   "cell_type": "code",
   "execution_count": 1,
   "id": "31e1b303-f6d9-414c-ad2b-2805b108289c",
   "metadata": {},
   "outputs": [],
   "source": [
    "import tensorflow as tf\n",
    "from tensorflow import keras\n",
    "from tensorflow.keras import layers\n",
    "from tensorflow.keras.datasets import mnist"
   ]
  },
  {
   "cell_type": "markdown",
   "id": "a936789d-43ef-482b-ab1e-ef0c9e618ed3",
   "metadata": {},
   "source": [
    "data is already preprocessed and divided into the train and the test things"
   ]
  },
  {
   "cell_type": "code",
   "execution_count": 2,
   "id": "b0459fa5-f51e-4c41-a61c-95e04f41eaa9",
   "metadata": {},
   "outputs": [
    {
     "name": "stdout",
     "output_type": "stream",
     "text": [
      "Downloading data from https://storage.googleapis.com/tensorflow/tf-keras-datasets/mnist.npz\n",
      "11490434/11490434 [==============================] - 3s 0us/step\n"
     ]
    }
   ],
   "source": [
    "(x_train,y_train) , (x_test, y_test) = mnist.load_data()"
   ]
  },
  {
   "cell_type": "code",
   "execution_count": 3,
   "id": "60ab780d-e358-4934-98fb-c61b6d541892",
   "metadata": {},
   "outputs": [],
   "source": [
    "#  the first dim is alswy the length and i have learnt this factr tmtr"
   ]
  },
  {
   "cell_type": "code",
   "execution_count": 4,
   "id": "0dde396a-16ed-4d06-9dc8-a11fae3c09b5",
   "metadata": {},
   "outputs": [
    {
     "data": {
      "text/plain": [
       "(60000, 28, 28)"
      ]
     },
     "execution_count": 4,
     "metadata": {},
     "output_type": "execute_result"
    }
   ],
   "source": [
    "x_train.shape"
   ]
  },
  {
   "cell_type": "code",
   "execution_count": 5,
   "id": "a96312a8-4839-4095-ab62-e16f049eac23",
   "metadata": {},
   "outputs": [
    {
     "data": {
      "text/plain": [
       "(60000,)"
      ]
     },
     "execution_count": 5,
     "metadata": {},
     "output_type": "execute_result"
    }
   ],
   "source": [
    "y_train.shape"
   ]
  },
  {
   "cell_type": "code",
   "execution_count": 6,
   "id": "276ced9b-6cb2-402a-a450-1692b66d3f23",
   "metadata": {},
   "outputs": [
    {
     "data": {
      "text/plain": [
       "(10000, 28, 28)"
      ]
     },
     "execution_count": 6,
     "metadata": {},
     "output_type": "execute_result"
    }
   ],
   "source": [
    "x_test.shape"
   ]
  },
  {
   "cell_type": "code",
   "execution_count": 7,
   "id": "7691c383-b64c-4692-8788-f62ed8994be8",
   "metadata": {},
   "outputs": [],
   "source": [
    "# need to conver to a flateen + values should be norm -- as in the nntework"
   ]
  },
  {
   "cell_type": "code",
   "execution_count": 10,
   "id": "9184dd69-3fe1-4881-a48d-8449999ea543",
   "metadata": {},
   "outputs": [],
   "source": [
    "# they are numpy array - flaot 64\n",
    "# adding . . . again and again works like middlewar epromises in python and good for data pipelints"
   ]
  },
  {
   "cell_type": "code",
   "execution_count": 11,
   "id": "de6ae680-e7e4-4731-9763-f5273ac064d7",
   "metadata": {},
   "outputs": [],
   "source": [
    "x_train = x_train.reshape(-1,28*28).astype(\"float32\") / 255"
   ]
  },
  {
   "cell_type": "code",
   "execution_count": 12,
   "id": "c9c02a51-f6cb-4eb8-a621-bfac23df065a",
   "metadata": {},
   "outputs": [],
   "source": [
    "x_test = x_test.reshape(-1,28*28).astype(\"float32\") / 255"
   ]
  },
  {
   "cell_type": "code",
   "execution_count": 13,
   "id": "7fc9ad9c-da0c-4345-921a-c9dc25d8e63a",
   "metadata": {},
   "outputs": [],
   "source": [
    "# internally the tensor will convert the numpy into the tensors so we ndon not need to do this explicityely"
   ]
  },
  {
   "cell_type": "code",
   "execution_count": 14,
   "id": "2dafddf8-c200-42bf-a4b3-9e96685aae93",
   "metadata": {},
   "outputs": [],
   "source": [
    "# using seq api -->> vary convienint + not vary flexibe == aonly auupport one input one output theory"
   ]
  },
  {
   "cell_type": "code",
   "execution_count": 18,
   "id": "8d3654de-83eb-4efa-adbb-0ce88d4c2599",
   "metadata": {},
   "outputs": [
    {
     "name": "stderr",
     "output_type": "stream",
     "text": [
      "WARNING:absl:`lr` is deprecated in Keras optimizer, please use `learning_rate` or use the legacy optimizer, e.g.,tf.keras.optimizers.legacy.Adam.\n"
     ]
    },
    {
     "name": "stdout",
     "output_type": "stream",
     "text": [
      "Epoch 1/10\n",
      "938/938 - 5s - loss: 0.2076 - accuracy: 0.9368 - 5s/epoch - 5ms/step\n",
      "Epoch 2/10\n",
      "938/938 - 4s - loss: 0.0870 - accuracy: 0.9725 - 4s/epoch - 5ms/step\n",
      "Epoch 3/10\n",
      "938/938 - 5s - loss: 0.0620 - accuracy: 0.9804 - 5s/epoch - 5ms/step\n",
      "Epoch 4/10\n",
      "938/938 - 4s - loss: 0.0453 - accuracy: 0.9850 - 4s/epoch - 5ms/step\n",
      "Epoch 5/10\n",
      "938/938 - 4s - loss: 0.0371 - accuracy: 0.9883 - 4s/epoch - 5ms/step\n",
      "Epoch 6/10\n",
      "938/938 - 4s - loss: 0.0339 - accuracy: 0.9889 - 4s/epoch - 5ms/step\n",
      "Epoch 7/10\n",
      "938/938 - 4s - loss: 0.0277 - accuracy: 0.9915 - 4s/epoch - 5ms/step\n",
      "Epoch 8/10\n",
      "938/938 - 4s - loss: 0.0237 - accuracy: 0.9923 - 4s/epoch - 5ms/step\n",
      "Epoch 9/10\n",
      "938/938 - 5s - loss: 0.0220 - accuracy: 0.9930 - 5s/epoch - 5ms/step\n",
      "Epoch 10/10\n",
      "938/938 - 5s - loss: 0.0189 - accuracy: 0.9939 - 5s/epoch - 5ms/step\n"
     ]
    },
    {
     "data": {
      "text/plain": [
       "<keras.src.callbacks.History at 0x7af1d5445060>"
      ]
     },
     "execution_count": 18,
     "metadata": {},
     "output_type": "execute_result"
    }
   ],
   "source": [
    "# we can add the layer jus tlie the index of the array\n",
    "model = keras.Sequential(\n",
    "    [\n",
    "        keras.Input(shape = (28*28)),\n",
    "        layers.Dense(256,activation = \"relu\"),\n",
    "        layers.Dense(512,activation = \"relu\"),\n",
    "        layers.Dense(256,activation = \"relu\"),\n",
    "        layers.Dense(10) #last ke me loss funciont me bhi add kr skte\n",
    "    ]\n",
    ")\n",
    "\n",
    "# now you layer are ready -- nwo you can do is configure general setting in the mode\n",
    "model.compile(\n",
    "    loss = keras.losses.SparseCategoricalCrossentropy(from_logits=True), #adds the softwmas thing\n",
    "    optimizer = keras.optimizers.Adam(lr = 0.001),\n",
    "    metrics = ['accuracy'] #it will be kept in track while traing and can be shoem\n",
    ")\n",
    "\n",
    "model.fit(x_train,y_train,batch_size = 64, epochs = 10,verbose = 2) #for printing"
   ]
  },
  {
   "cell_type": "code",
   "execution_count": 19,
   "id": "b1f45a21-9555-4ca0-9164-d84d57dcb412",
   "metadata": {},
   "outputs": [
    {
     "name": "stdout",
     "output_type": "stream",
     "text": [
      "157/157 [==============================] - 0s 3ms/step - loss: 0.0884 - accuracy: 0.9806\n"
     ]
    },
    {
     "data": {
      "text/plain": [
       "[0.08838338404893875, 0.9805999994277954]"
      ]
     },
     "execution_count": 19,
     "metadata": {},
     "output_type": "execute_result"
    }
   ],
   "source": [
    "model.evaluate(x_test,y_test,batch_size = 64,verbose = True)"
   ]
  },
  {
   "cell_type": "code",
   "execution_count": 20,
   "id": "49bc7b61-9161-44ba-84c7-f425dcba3327",
   "metadata": {
    "scrolled": true
   },
   "outputs": [
    {
     "name": "stdout",
     "output_type": "stream",
     "text": [
      "Model: \"sequential_1\"\n",
      "_________________________________________________________________\n",
      " Layer (type)                Output Shape              Param #   \n",
      "=================================================================\n",
      " dense_4 (Dense)             (None, 256)               200960    \n",
      "                                                                 \n",
      " dense_5 (Dense)             (None, 512)               131584    \n",
      "                                                                 \n",
      " dense_6 (Dense)             (None, 256)               131328    \n",
      "                                                                 \n",
      " dense_7 (Dense)             (None, 10)                2570      \n",
      "                                                                 \n",
      "=================================================================\n",
      "Total params: 466442 (1.78 MB)\n",
      "Trainable params: 466442 (1.78 MB)\n",
      "Non-trainable params: 0 (0.00 Byte)\n",
      "_________________________________________________________________\n"
     ]
    }
   ],
   "source": [
    "model.summary()"
   ]
  },
  {
   "cell_type": "code",
   "execution_count": 21,
   "id": "221b4b2a-8ac0-4c95-b0f5-f13642022063",
   "metadata": {},
   "outputs": [],
   "source": [
    "#also leayer can be added in the one by one fashions mtr"
   ]
  },
  {
   "cell_type": "code",
   "execution_count": 22,
   "id": "66564dcb-a01a-4868-992e-4bdad041c49b",
   "metadata": {},
   "outputs": [],
   "source": [
    "# model = keras.Sequential()\n",
    "# model.add(keras.Input(shape  = (28*28)))\n",
    "# model.add(layers.Dense(512,activation = \"relu\"))\n",
    "# model.add(layers.Dense(256,activation = \"relu\")) \n",
    "\n",
    "# soem thingl ike taht "
   ]
  },
  {
   "cell_type": "code",
   "execution_count": 23,
   "id": "c24aad10-302d-4628-b409-079d46aa4847",
   "metadata": {},
   "outputs": [],
   "source": [
    "# The functional API is bit more fiexiblb as it can handle both the type od input and outp g > 1\n",
    "# # "
   ]
  },
  {
   "cell_type": "code",
   "execution_count": 24,
   "id": "4e6b4af4-83fd-4ead-afc4-7b9d7cd645d8",
   "metadata": {},
   "outputs": [],
   "source": [
    "# should define the first adn the lat in this case for functioal apis"
   ]
  },
  {
   "cell_type": "code",
   "execution_count": 27,
   "id": "b49e8ff1-761b-4a6c-91bd-5faf1a348638",
   "metadata": {},
   "outputs": [
    {
     "name": "stdout",
     "output_type": "stream",
     "text": [
      "Epoch 1/10\n",
      "938/938 - 5s - loss: 0.2025 - accuracy: 0.9387 - 5s/epoch - 5ms/step\n",
      "Epoch 2/10\n",
      "938/938 - 5s - loss: 0.0771 - accuracy: 0.9761 - 5s/epoch - 5ms/step\n",
      "Epoch 3/10\n",
      "938/938 - 5s - loss: 0.0513 - accuracy: 0.9837 - 5s/epoch - 5ms/step\n",
      "Epoch 4/10\n",
      "938/938 - 5s - loss: 0.0362 - accuracy: 0.9886 - 5s/epoch - 6ms/step\n",
      "Epoch 5/10\n",
      "938/938 - 5s - loss: 0.0294 - accuracy: 0.9899 - 5s/epoch - 6ms/step\n",
      "Epoch 6/10\n",
      "938/938 - 4s - loss: 0.0239 - accuracy: 0.9927 - 4s/epoch - 5ms/step\n",
      "Epoch 7/10\n",
      "938/938 - 4s - loss: 0.0195 - accuracy: 0.9938 - 4s/epoch - 5ms/step\n",
      "Epoch 8/10\n",
      "938/938 - 5s - loss: 0.0200 - accuracy: 0.9935 - 5s/epoch - 5ms/step\n",
      "Epoch 9/10\n",
      "938/938 - 6s - loss: 0.0131 - accuracy: 0.9957 - 6s/epoch - 6ms/step\n",
      "Epoch 10/10\n",
      "938/938 - 5s - loss: 0.0148 - accuracy: 0.9950 - 5s/epoch - 6ms/step\n"
     ]
    },
    {
     "data": {
      "text/plain": [
       "<keras.src.callbacks.History at 0x7af1d59b8b20>"
      ]
     },
     "execution_count": 27,
     "metadata": {},
     "output_type": "execute_result"
    }
   ],
   "source": [
    "inputs = keras.Input(shape = (28*28))\n",
    "x = layers.Dense(512, activation = \"relu\")(inputs)\n",
    "x = layers.Dense(256,activation = \"relu\")(x)\n",
    "outputs = layers.Dense(10,activation = \"softmax\")(x)\n",
    "\n",
    "model = keras.Model(inputs = inputs , outputs = outputs)\n",
    "\n",
    "model.compile(\n",
    "    loss = keras.losses.SparseCategoricalCrossentropy(), \n",
    "    optimizer = keras.optimizers.Adam(learning_rate = 0.001),\n",
    "    metrics = ['accuracy'] #it will be kept in track while traing and can be shoem\n",
    ")\n",
    "\n",
    "model.fit(x_train,y_train,batch_size = 64, epochs = 10,verbose = 2) #for printing"
   ]
  },
  {
   "cell_type": "code",
   "execution_count": 28,
   "id": "d07c4308-3894-44df-b7e0-5d6dae93e2b4",
   "metadata": {},
   "outputs": [
    {
     "name": "stdout",
     "output_type": "stream",
     "text": [
      "157/157 [==============================] - 1s 4ms/step - loss: 0.0919 - accuracy: 0.9796\n"
     ]
    },
    {
     "data": {
      "text/plain": [
       "[0.0919470489025116, 0.9796000123023987]"
      ]
     },
     "execution_count": 28,
     "metadata": {},
     "output_type": "execute_result"
    }
   ],
   "source": [
    "model.evaluate(x_test,y_test,batch_size = 64,verbose = True)\n"
   ]
  },
  {
   "cell_type": "code",
   "execution_count": null,
   "id": "9369b9fd-11fa-4ee0-8258-f485d1dfebab",
   "metadata": {},
   "outputs": [],
   "source": []
  }
 ],
 "metadata": {
  "kernelspec": {
   "display_name": "Python 3 (ipykernel)",
   "language": "python",
   "name": "python3"
  },
  "language_info": {
   "codemirror_mode": {
    "name": "ipython",
    "version": 3
   },
   "file_extension": ".py",
   "mimetype": "text/x-python",
   "name": "python",
   "nbconvert_exporter": "python",
   "pygments_lexer": "ipython3",
   "version": "3.10.12"
  }
 },
 "nbformat": 4,
 "nbformat_minor": 5
}
