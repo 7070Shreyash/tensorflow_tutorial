{
 "cells": [
  {
   "cell_type": "code",
   "execution_count": 1,
   "id": "756e80e4-7c10-4036-aa61-6191fd007015",
   "metadata": {},
   "outputs": [],
   "source": [
    "# whene we have more than one input / output -- may be of differnt modality"
   ]
  },
  {
   "cell_type": "code",
   "execution_count": 2,
   "id": "debe4d19-a693-4c52-a3e5-75aade324ba1",
   "metadata": {},
   "outputs": [
    {
     "name": "stderr",
     "output_type": "stream",
     "text": [
      "2024-04-25 14:03:49.519296: I tensorflow/core/util/port.cc:113] oneDNN custom operations are on. You may see slightly different numerical results due to floating-point round-off errors from different computation orders. To turn them off, set the environment variable `TF_ENABLE_ONEDNN_OPTS=0`.\n",
      "2024-04-25 14:03:49.597003: I external/local_tsl/tsl/cuda/cudart_stub.cc:31] Could not find cuda drivers on your machine, GPU will not be used.\n",
      "2024-04-25 14:03:49.809249: E external/local_xla/xla/stream_executor/cuda/cuda_dnn.cc:9261] Unable to register cuDNN factory: Attempting to register factory for plugin cuDNN when one has already been registered\n",
      "2024-04-25 14:03:49.809325: E external/local_xla/xla/stream_executor/cuda/cuda_fft.cc:607] Unable to register cuFFT factory: Attempting to register factory for plugin cuFFT when one has already been registered\n",
      "2024-04-25 14:03:49.844497: E external/local_xla/xla/stream_executor/cuda/cuda_blas.cc:1515] Unable to register cuBLAS factory: Attempting to register factory for plugin cuBLAS when one has already been registered\n",
      "2024-04-25 14:03:49.925449: I external/local_tsl/tsl/cuda/cudart_stub.cc:31] Could not find cuda drivers on your machine, GPU will not be used.\n",
      "2024-04-25 14:03:49.926567: I tensorflow/core/platform/cpu_feature_guard.cc:182] This TensorFlow binary is optimized to use available CPU instructions in performance-critical operations.\n",
      "To enable the following instructions: AVX2 AVX512F AVX512_VNNI FMA, in other operations, rebuild TensorFlow with the appropriate compiler flags.\n",
      "2024-04-25 14:03:50.994790: W tensorflow/compiler/tf2tensorrt/utils/py_utils.cc:38] TF-TRT Warning: Could not find TensorRT\n",
      "/usr/lib/python3/dist-packages/scipy/__init__.py:146: UserWarning: A NumPy version >=1.17.3 and <1.25.0 is required for this version of SciPy (detected version 1.26.4\n",
      "  warnings.warn(f\"A NumPy version >={np_minversion} and <{np_maxversion}\"\n"
     ]
    }
   ],
   "source": [
    "import tensorflow as tf\n",
    "from tensorflow import keras\n",
    "from keras import layers\n",
    "from keras.datasets  import mnist"
   ]
  },
  {
   "cell_type": "code",
   "execution_count": 3,
   "id": "764be300-bfc7-4ffe-be3e-89d95658d4ea",
   "metadata": {},
   "outputs": [],
   "source": [
    "from keras import regularizers"
   ]
  },
  {
   "cell_type": "code",
   "execution_count": 6,
   "id": "1cfcaf30-4908-4884-b1fc-0f1922e407a2",
   "metadata": {},
   "outputs": [],
   "source": [
    "input = keras.Input(shape = (64,64,1))\n",
    "x = layers.Conv2D(filters = 32,  kernel_size = 3,padding = \"same\" , kernel_regularizer = regularizers.l2(0.001))(input)\n",
    "x = layers.BatchNormalization()(x)\n",
    "x = keras.activations.relu(x)\n",
    "x = layers.MaxPooling2D()(x)\n",
    "x = layers.Conv2D(filters = 64, kernel_size = 3,padding = \"same\" , activation = \"relu\" , kernel_regularizer = regularizers.l2(0.001))(x)\n",
    "x = layers.Conv2D(filters = 128, kernel_size = 3,padding = \"same\" , activation = \"relu\" ,  kernel_regularizer = regularizers.l2(0.001))(x)\n",
    "x = layers.MaxPooling2D()(x)\n",
    "x = layers.Flatten()(x)\n",
    "x = layers.Dense(64, activation = \"relu\" )(x)\n",
    "x = layers.Dropout(0.5)(x)\n",
    "x = layers.Dense(64, activation = \"relu\")(x)\n",
    "output1 = layers.Dense(10,activation = \"softmax\")(x)\n",
    "output2 = layers.Dense(10,activation = \"softmax\")(x)\n",
    "\n",
    "model = keras.Model(inputs = input, outputs = [output1, output2])"
   ]
  },
  {
   "cell_type": "code",
   "execution_count": 7,
   "id": "680b6cd3-f6fa-4eb4-a2df-0c676686f86d",
   "metadata": {},
   "outputs": [],
   "source": [
    "model.compile(\n",
    "        optimizer = keras.optimizers.Adam(0.001),\n",
    "        loss = [\n",
    "            keras.losses.SparseCategoricalCrossentropy(),\n",
    "            keras.losses.SparseCategoricalCrossentropy()\n",
    "        ],\n",
    "    metrics = ['accuracy']\n",
    "    )"
   ]
  },
  {
   "cell_type": "code",
   "execution_count": 8,
   "id": "99d133fc-7cb5-4a72-9c51-94f5b03d9684",
   "metadata": {},
   "outputs": [],
   "source": [
    "# this is vv important "
   ]
  }
 ],
 "metadata": {
  "kernelspec": {
   "display_name": "Python 3 (ipykernel)",
   "language": "python",
   "name": "python3"
  },
  "language_info": {
   "codemirror_mode": {
    "name": "ipython",
    "version": 3
   },
   "file_extension": ".py",
   "mimetype": "text/x-python",
   "name": "python",
   "nbconvert_exporter": "python",
   "pygments_lexer": "ipython3",
   "version": "3.10.12"
  }
 },
 "nbformat": 4,
 "nbformat_minor": 5
}
