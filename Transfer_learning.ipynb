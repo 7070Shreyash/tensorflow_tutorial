{
 "cells": [
  {
   "cell_type": "code",
   "execution_count": 1,
   "id": "060ced69-5563-4dd2-ae45-6a44728229f7",
   "metadata": {},
   "outputs": [],
   "source": [
    "#using keras model and nals tensorlw hub"
   ]
  },
  {
   "cell_type": "code",
   "execution_count": 2,
   "id": "4464fa98-2334-4b08-8de6-5d69a074fe31",
   "metadata": {},
   "outputs": [
    {
     "name": "stderr",
     "output_type": "stream",
     "text": [
      "2024-04-25 15:24:23.699570: I tensorflow/core/util/port.cc:113] oneDNN custom operations are on. You may see slightly different numerical results due to floating-point round-off errors from different computation orders. To turn them off, set the environment variable `TF_ENABLE_ONEDNN_OPTS=0`.\n",
      "2024-04-25 15:24:23.701611: I external/local_tsl/tsl/cuda/cudart_stub.cc:31] Could not find cuda drivers on your machine, GPU will not be used.\n",
      "2024-04-25 15:24:23.727086: E external/local_xla/xla/stream_executor/cuda/cuda_dnn.cc:9261] Unable to register cuDNN factory: Attempting to register factory for plugin cuDNN when one has already been registered\n",
      "2024-04-25 15:24:23.727118: E external/local_xla/xla/stream_executor/cuda/cuda_fft.cc:607] Unable to register cuFFT factory: Attempting to register factory for plugin cuFFT when one has already been registered\n",
      "2024-04-25 15:24:23.727768: E external/local_xla/xla/stream_executor/cuda/cuda_blas.cc:1515] Unable to register cuBLAS factory: Attempting to register factory for plugin cuBLAS when one has already been registered\n",
      "2024-04-25 15:24:23.731793: I external/local_tsl/tsl/cuda/cudart_stub.cc:31] Could not find cuda drivers on your machine, GPU will not be used.\n",
      "2024-04-25 15:24:23.732245: I tensorflow/core/platform/cpu_feature_guard.cc:182] This TensorFlow binary is optimized to use available CPU instructions in performance-critical operations.\n",
      "To enable the following instructions: AVX2 AVX512F AVX512_VNNI FMA, in other operations, rebuild TensorFlow with the appropriate compiler flags.\n",
      "2024-04-25 15:24:24.323345: W tensorflow/compiler/tf2tensorrt/utils/py_utils.cc:38] TF-TRT Warning: Could not find TensorRT\n",
      "/usr/lib/python3/dist-packages/scipy/__init__.py:146: UserWarning: A NumPy version >=1.17.3 and <1.25.0 is required for this version of SciPy (detected version 1.26.4\n",
      "  warnings.warn(f\"A NumPy version >={np_minversion} and <{np_maxversion}\"\n"
     ]
    }
   ],
   "source": [
    "import tensorflow as tf\n",
    "from  tensorflow import keras\n",
    "from keras import layers\n",
    "from keras.datasets import mnist"
   ]
  },
  {
   "cell_type": "code",
   "execution_count": 3,
   "id": "7201010c-2135-4aaa-8012-814342eb6c40",
   "metadata": {},
   "outputs": [],
   "source": [
    "# to load you model\n",
    "# model = keras.models.load_model('path')"
   ]
  },
  {
   "cell_type": "markdown",
   "id": "307c6198-6d5f-46c9-8d0a-a1b1275bc66b",
   "metadata": {},
   "source": [
    "Generally we want to pick out some last layer in transfer learing"
   ]
  },
  {
   "cell_type": "markdown",
   "id": "043d5070-fc81-4500-86a4-1b7a5ebd5677",
   "metadata": {},
   "source": [
    "base_input = model.layers[0].input \\\n",
    "base_output = model.layers[-2].output \\\n",
    "\n",
    "output = layers.Dense(10)(base_output)\n",
    "modle = ekras.Model(input = base_input . outptp = final_otup )\n"
   ]
  },
  {
   "cell_type": "code",
   "execution_count": 4,
   "id": "23eca547-4011-4551-bd8a-23b18fdbbf82",
   "metadata": {},
   "outputs": [],
   "source": [
    "# we can also freeze the par of the pretrainrm model"
   ]
  },
  {
   "cell_type": "code",
   "execution_count": null,
   "id": "4f7390e4-6042-429f-a69a-426cd3be13e7",
   "metadata": {},
   "outputs": [],
   "source": [
    "also we can load th"
   ]
  }
 ],
 "metadata": {
  "kernelspec": {
   "display_name": "Python 3 (ipykernel)",
   "language": "python",
   "name": "python3"
  },
  "language_info": {
   "codemirror_mode": {
    "name": "ipython",
    "version": 3
   },
   "file_extension": ".py",
   "mimetype": "text/x-python",
   "name": "python",
   "nbconvert_exporter": "python",
   "pygments_lexer": "ipython3",
   "version": "3.10.12"
  }
 },
 "nbformat": 4,
 "nbformat_minor": 5
}
