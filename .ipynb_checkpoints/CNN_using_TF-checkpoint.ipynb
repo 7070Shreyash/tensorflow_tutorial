{
 "cells": [
  {
   "cell_type": "code",
   "execution_count": 1,
   "id": "b9cf419d-675f-4859-9ea6-83404fe3859e",
   "metadata": {},
   "outputs": [],
   "source": [
    "import tensorflow as tf\n",
    "from tensorflow import keras\n",
    "from tensorflow.keras import layers\n",
    "from tensorflow.keras.datasets import cifar10"
   ]
  },
  {
   "cell_type": "code",
   "execution_count": 3,
   "id": "8c4e8255-a7d1-44ed-a685-1fb255322db0",
   "metadata": {},
   "outputs": [],
   "source": [
    "# x#alredy splitted mtrr"
   ]
  },
  {
   "cell_type": "code",
   "execution_count": 15,
   "id": "2b03a950-bc70-4e4c-a150-21f0a5ab6072",
   "metadata": {},
   "outputs": [],
   "source": [
    "(x_train,y_train) , (x_test, y_test) = cifar10.load_data()"
   ]
  },
  {
   "cell_type": "code",
   "execution_count": 16,
   "id": "eceac89f-f309-4cd6-880d-a9242bdff843",
   "metadata": {},
   "outputs": [
    {
     "data": {
      "text/plain": [
       "(50000, 32, 32, 3)"
      ]
     },
     "execution_count": 16,
     "metadata": {},
     "output_type": "execute_result"
    }
   ],
   "source": [
    "x_train.shape"
   ]
  },
  {
   "cell_type": "code",
   "execution_count": 17,
   "id": "8d8f90b0-7731-44c6-90cc-629dcbccea3c",
   "metadata": {},
   "outputs": [],
   "source": [
    "x_train = x_train.astype(\"float32\") / 255\n",
    "x_test = x_test.astype(\"float32\") / 255\n"
   ]
  },
  {
   "cell_type": "code",
   "execution_count": 18,
   "id": "b71d2496-0b4a-40c1-8361-ae4a5edd648c",
   "metadata": {},
   "outputs": [],
   "source": [
    "model = keras.Sequential()\n",
    "model.add(keras.Input(shape=(32, 32, 3)))\n",
    "model.add(layers.Conv2D(32, (3, 3), padding=\"same\", activation=\"relu\"))\n",
    "model.add(layers.MaxPool2D(pool_size=(2, 2)))\n",
    "model.add(layers.Conv2D(64, (5, 5), padding=\"same\", activation=\"relu\"))\n",
    "model.add(layers.MaxPool2D(pool_size=(2, 2)))\n",
    "model.add(layers.Conv2D(128, (3, 3), padding=\"same\", activation=\"relu\"))\n",
    "model.add(layers.Flatten())\n",
    "model.add(layers.Dense(64, activation=\"relu\"))\n",
    "model.add(layers.Dense(10))"
   ]
  },
  {
   "cell_type": "code",
   "execution_count": 19,
   "id": "d81bfe9d-7461-4b4a-b6bf-83398342bbd1",
   "metadata": {
    "scrolled": true
   },
   "outputs": [
    {
     "name": "stdout",
     "output_type": "stream",
     "text": [
      "Model: \"sequential_1\"\n",
      "_________________________________________________________________\n",
      " Layer (type)                Output Shape              Param #   \n",
      "=================================================================\n",
      " conv2d_3 (Conv2D)           (None, 32, 32, 32)        896       \n",
      "                                                                 \n",
      " max_pooling2d_2 (MaxPoolin  (None, 16, 16, 32)        0         \n",
      " g2D)                                                            \n",
      "                                                                 \n",
      " conv2d_4 (Conv2D)           (None, 16, 16, 64)        51264     \n",
      "                                                                 \n",
      " max_pooling2d_3 (MaxPoolin  (None, 8, 8, 64)          0         \n",
      " g2D)                                                            \n",
      "                                                                 \n",
      " conv2d_5 (Conv2D)           (None, 8, 8, 128)         73856     \n",
      "                                                                 \n",
      " flatten_1 (Flatten)         (None, 8192)              0         \n",
      "                                                                 \n",
      " dense_2 (Dense)             (None, 64)                524352    \n",
      "                                                                 \n",
      " dense_3 (Dense)             (None, 10)                650       \n",
      "                                                                 \n",
      "=================================================================\n",
      "Total params: 651018 (2.48 MB)\n",
      "Trainable params: 651018 (2.48 MB)\n",
      "Non-trainable params: 0 (0.00 Byte)\n",
      "_________________________________________________________________\n"
     ]
    }
   ],
   "source": [
    "model.summary()"
   ]
  },
  {
   "cell_type": "code",
   "execution_count": 20,
   "id": "f4fb8a2f-98d8-4c80-afa9-8724d678bb30",
   "metadata": {},
   "outputs": [],
   "source": [
    "model.compile(\n",
    "    loss = keras.losses.SparseCategoricalCrossentropy(from_logits=True),\n",
    "    optimizer = keras.optimizers.Adam(learning_rate=0.001),\n",
    "    metrics=['accuracy']\n",
    ")"
   ]
  },
  {
   "cell_type": "code",
   "execution_count": 21,
   "id": "d612c659-1f8b-4f5f-9263-5faad30897d3",
   "metadata": {},
   "outputs": [
    {
     "name": "stdout",
     "output_type": "stream",
     "text": [
      "Epoch 1/10\n",
      "782/782 [==============================] - 25s 31ms/step - loss: 1.4305 - accuracy: 0.4849\n",
      "Epoch 2/10\n",
      "782/782 [==============================] - 28s 36ms/step - loss: 1.0092 - accuracy: 0.6462\n",
      "Epoch 3/10\n",
      "782/782 [==============================] - 27s 34ms/step - loss: 0.8340 - accuracy: 0.7077\n",
      "Epoch 4/10\n",
      "782/782 [==============================] - 25s 31ms/step - loss: 0.7145 - accuracy: 0.7516\n",
      "Epoch 5/10\n",
      "782/782 [==============================] - 24s 31ms/step - loss: 0.6249 - accuracy: 0.7829\n",
      "Epoch 6/10\n",
      "782/782 [==============================] - 25s 31ms/step - loss: 0.5378 - accuracy: 0.8120\n",
      "Epoch 7/10\n",
      "782/782 [==============================] - 25s 31ms/step - loss: 0.4572 - accuracy: 0.8402\n",
      "Epoch 8/10\n",
      "782/782 [==============================] - 25s 31ms/step - loss: 0.3893 - accuracy: 0.8638\n",
      "Epoch 9/10\n",
      "782/782 [==============================] - 25s 32ms/step - loss: 0.3270 - accuracy: 0.8843\n",
      "Epoch 10/10\n",
      "782/782 [==============================] - 25s 31ms/step - loss: 0.2679 - accuracy: 0.9047\n"
     ]
    },
    {
     "data": {
      "text/plain": [
       "<keras.src.callbacks.History at 0x7d5ed9c82fb0>"
      ]
     },
     "execution_count": 21,
     "metadata": {},
     "output_type": "execute_result"
    }
   ],
   "source": [
    "model.fit(x_train,y_train,batch_size = 64, epochs = 10,verbose = True)"
   ]
  },
  {
   "cell_type": "code",
   "execution_count": 23,
   "id": "9c5f21aa-b978-4746-9ae7-e790dbce5b3c",
   "metadata": {},
   "outputs": [],
   "source": [
    "# this is kinda good\n",
    "def mv_model() :\n",
    "    inputs = keras.Input(shape = (32,32,3))\n",
    "    x = layers.conv2D(32,(3,3))(inputs)\n",
    "    x = layers.BatchNormalization()(x)\n",
    "    x = keras.activations.relu(x)\n",
    "    x = layers.MaxPooling2D(pool_size=(2,2))(x)\n",
    "    x = layers.Conv2D(64,5,padding = \"same\")(x)\n",
    "    x = layers.BatchNormalization()(x)\n",
    "    x = keras.activations.relu(x)\n",
    "    x = layers.Flatten()(x)\n",
    "    x = layers.Dense(64,activations = \"relu\")(x)\n",
    "    outputs = layers.Dense(10)(x)"
   ]
  },
  {
   "cell_type": "code",
   "execution_count": 24,
   "id": "9fb9b331-5712-4854-b628-979a46201e89",
   "metadata": {},
   "outputs": [],
   "source": [
    "# we need kinda regualzraze also if want to enhance"
   ]
  },
  {
   "cell_type": "code",
   "execution_count": 25,
   "id": "90c9f660-9e4d-4db6-93e7-ff2e2cc8b633",
   "metadata": {},
   "outputs": [],
   "source": [
    "from keras import regularizers"
   ]
  },
  {
   "cell_type": "code",
   "execution_count": 27,
   "id": "1b0edec1-6390-47fa-b0a7-3d5ea086afa7",
   "metadata": {},
   "outputs": [],
   "source": [
    "# This is kinda good\n",
    "\n",
    "# inputs = keras.Input(shape = (32,32,3))\n",
    "#     # x = layers.conv2D(32,(3,3),padding = \"same\", kernel_regularizer = regularizers.l2(0.01))(inputs)\n",
    "#     x = layers.BatchNormalization()(x)\n",
    "#     x = keras.activations.relu(x)\n",
    "#     x = layers.MaxPooling2D(pool_size=(2,2))(x)\n",
    "#     x = layers.Conv2D(64,5,padding = \"same\", kernel_regularizer = regularizers.l2(0.01))(x)\n",
    "#     x = layers.BatchNormalization()(x)\n",
    "#     x = keras.activations.relu(x)\n",
    "#     x = layers.Flatten()(x)\n",
    "#     x = layers.Dense(64,activations = \"relu\",kernel_regularizer = regularizers.l2(0.01))(x)\n",
    "#     x = layers.Dropout(0.5)\n",
    "#     outputs = layers.Dense(10)(x)"
   ]
  }
 ],
 "metadata": {
  "kernelspec": {
   "display_name": "Python 3 (ipykernel)",
   "language": "python",
   "name": "python3"
  },
  "language_info": {
   "codemirror_mode": {
    "name": "ipython",
    "version": 3
   },
   "file_extension": ".py",
   "mimetype": "text/x-python",
   "name": "python",
   "nbconvert_exporter": "python",
   "pygments_lexer": "ipython3",
   "version": "3.10.12"
  }
 },
 "nbformat": 4,
 "nbformat_minor": 5
}
